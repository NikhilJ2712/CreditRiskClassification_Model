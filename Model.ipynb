{
 "cells": [
  {
   "cell_type": "markdown",
   "id": "4e9b332d",
   "metadata": {},
   "source": [
    "### **CreaditRiskClassification Model**"
   ]
  },
  {
   "cell_type": "markdown",
   "id": "12eef4e4",
   "metadata": {},
   "source": [
    "#### Problem Defintion:"
   ]
  },
  {
   "cell_type": "code",
   "execution_count": 2,
   "id": "7d82a23e",
   "metadata": {},
   "outputs": [],
   "source": [
    "# Import  Data Manpulation Library\n",
    "import numpy as np\n",
    "import pandas as pd\n",
    "\n",
    "# Import  Data Visualization Library\n",
    "import matplotlib.pyplot as plt\n",
    "import seaborn as sns\n",
    "\n",
    "# Import FilterWarnings Library\n",
    "import warnings\n",
    "warnings.filterwarnings('ignore')\n",
    "\n",
    "# Import Logging Library\n",
    "import logging\n",
    "logging.basicConfig(level=logging.INFO, \n",
    "                    filename='model.log',\n",
    "                    filemode='w',\n",
    "                    format='%(asctime)s - %(levelname)s - %(message)s')\n",
    "\n",
    "# Import Scikit-learn Libraries\n",
    "from sklearn.preprocessing import MinMaxScaler, RobustScaler\n",
    "from sklearn.model_selection import train_test_split\n",
    "from sklearn.metrics import accuracy_score, confusion_matrix, classification_report"
   ]
  }
 ],
 "metadata": {
  "kernelspec": {
   "display_name": "env",
   "language": "python",
   "name": "python3"
  },
  "language_info": {
   "codemirror_mode": {
    "name": "ipython",
    "version": 3
   },
   "file_extension": ".py",
   "mimetype": "text/x-python",
   "name": "python",
   "nbconvert_exporter": "python",
   "pygments_lexer": "ipython3",
   "version": "3.12.7"
  }
 },
 "nbformat": 4,
 "nbformat_minor": 5
}
